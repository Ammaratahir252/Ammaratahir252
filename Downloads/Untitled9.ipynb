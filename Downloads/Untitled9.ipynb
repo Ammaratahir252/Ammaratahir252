{
  "nbformat": 4,
  "nbformat_minor": 0,
  "metadata": {
    "colab": {
      "provenance": []
    },
    "kernelspec": {
      "name": "python3",
      "display_name": "Python 3"
    },
    "language_info": {
      "name": "python"
    }
  },
  "cells": [
    {
      "cell_type": "code",
      "execution_count": 1,
      "metadata": {
        "colab": {
          "base_uri": "https://localhost:8080/"
        },
        "id": "6A5BfZf_zwCX",
        "outputId": "9b0b3007-da85-41bd-9d81-d89d9924d74a"
      },
      "outputs": [
        {
          "output_type": "stream",
          "name": "stdout",
          "text": [
            "Player 1 receives 2 of Hearts\n",
            "Player 2 receives 1 of Hearts\n",
            "Player 3 receives 1 of Diamonds\n",
            "Player 4 receives 2 of Spades\n",
            "The winner is Player 4 with 2 of Spades!\n"
          ]
        }
      ],
      "source": [
        "import random\n",
        "\n",
        "# Setup: Number of players and suits\n",
        "num_players = 4\n",
        "suits = ['Spades', 'Hearts', 'Diamonds', 'Clubs']\n",
        "\n",
        "# Priority of suits for deciding the winner (higher is better)\n",
        "suit_priority = {'Spades': 4, 'Hearts': 3, 'Diamonds': 2, 'Clubs': 1}\n",
        "\n",
        "# Step 1: Create players and an empty deck of cards\n",
        "players = [{'id': i + 1, 'card': None} for i in range(num_players)]\n",
        "cards = []\n",
        "\n",
        "# Step 2: Create the deck of cards with values and suits\n",
        "for suit in suits:\n",
        "    for value in range(1, num_players // len(suits) + 2):  # Enough cards for players\n",
        "        card = {\n",
        "            'value': value,\n",
        "            'suit': suit,\n",
        "            'priority': value * 10 + suit_priority[suit]  # Card priority based on value and suit\n",
        "        }\n",
        "        cards.append(card)\n",
        "\n",
        "# Step 3: Shuffle the deck of cards\n",
        "random.shuffle(cards)\n",
        "\n",
        "# Step 4: Assign a card to each player\n",
        "for player in players:\n",
        "    player['card'] = cards.pop()  # Give each player a card from the deck\n",
        "    card = player['card']\n",
        "    print(f\"Player {player['id']} receives {card['value']} of {card['suit']}\")\n",
        "\n",
        "# Step 5: Find the winner with the highest card priority\n",
        "winner = max(players, key=lambda p: p['card']['priority'])\n",
        "winning_card = winner['card']\n",
        "print(f\"The winner is Player {winner['id']} with {winning_card['value']} of {winning_card['suit']}!\")\n"
      ]
    },
    {
      "cell_type": "code",
      "source": [
        "# Goal-Based Agent: Moves towards a goal position\n",
        "class GoalBasedAgent:\n",
        "    def __init__(self, start, goal):\n",
        "        self.position = start  # Starting position\n",
        "        self.goal = goal  # Target position\n",
        "\n",
        "    def move(self):\n",
        "        if self.position < self.goal:\n",
        "            self.position += 1  # Move forward\n",
        "        elif self.position > self.goal:\n",
        "            self.position -= 1  # Move backward\n",
        "\n",
        "    def run(self):\n",
        "        while self.position != self.goal:\n",
        "            print(f\"Current position: {self.position}\")\n",
        "            self.move()  # Move towards goal\n",
        "        print(f\"Reached the goal at position: {self.position}\")\n",
        "\n",
        "# Model-Based Agent: Remembers visited states to avoid repeats\n",
        "class ModelBasedAgent:\n",
        "    def __init__(self, states):\n",
        "        self.states = states  # List of states to visit\n",
        "        self.visited = []  # List to keep track of visited states\n",
        "\n",
        "    def act(self, state):\n",
        "        if state not in self.visited:  # Check if the state has been visited\n",
        "            self.visited.append(state)  # Mark as visited\n",
        "            print(f\"Visiting new state: {state}\")\n",
        "        else:\n",
        "            print(f\"Already visited state: {state}\")\n",
        "\n",
        "    def run(self):\n",
        "        for state in self.states:\n",
        "            self.act(state)  # Act on each state\n",
        "\n",
        "# Utility-Based Agent: Chooses the best action based on utility value\n",
        "class UtilityBasedAgent:\n",
        "    def __init__(self, actions):\n",
        "        self.actions = actions  # List of actions with their utility values\n",
        "\n",
        "    def choose_best_action(self):\n",
        "        best_action = max(self.actions, key=lambda x: x['utility'])  # Find action with highest utility\n",
        "        print(f\"Chosen action: {best_action['name']} (Utility: {best_action['utility']})\")\n",
        "\n",
        "    def run(self):\n",
        "        print(\"Choosing the best action...\")\n",
        "        self.choose_best_action()  # Choose the best action based on utility\n",
        "\n",
        "# Running each agent\n",
        "print(\"Goal-Based Agent:\")\n",
        "goal_agent = GoalBasedAgent(start=0, goal=5)\n",
        "goal_agent.run()\n",
        "\n",
        "print(\"\\nModel-Based Agent:\")\n",
        "model_agent = ModelBasedAgent(states=[1, 2, 3, 1, 4, 2, 5])\n",
        "model_agent.run()\n",
        "\n",
        "print(\"\\nUtility-Based Agent:\")\n",
        "utility_agent = UtilityBasedAgent(actions=[\n",
        "    {'name': 'High risk', 'utility': -10},\n",
        "    {'name': 'Medium risk', 'utility': 20},\n",
        "    {'name': 'Low risk', 'utility': 50},\n",
        "    {'name': 'Safe', 'utility': 80}\n",
        "])\n",
        "utility_agent.run()\n"
      ],
      "metadata": {
        "colab": {
          "base_uri": "https://localhost:8080/"
        },
        "id": "o6oBLCQhz0Gn",
        "outputId": "a578b670-b980-4858-8a32-c7363220633d"
      },
      "execution_count": 2,
      "outputs": [
        {
          "output_type": "stream",
          "name": "stdout",
          "text": [
            "Goal-Based Agent:\n",
            "Current position: 0\n",
            "Current position: 1\n",
            "Current position: 2\n",
            "Current position: 3\n",
            "Current position: 4\n",
            "Reached the goal at position: 5\n",
            "\n",
            "Model-Based Agent:\n",
            "Visiting new state: 1\n",
            "Visiting new state: 2\n",
            "Visiting new state: 3\n",
            "Already visited state: 1\n",
            "Visiting new state: 4\n",
            "Already visited state: 2\n",
            "Visiting new state: 5\n",
            "\n",
            "Utility-Based Agent:\n",
            "Choosing the best action...\n",
            "Chosen action: Safe (Utility: 80)\n"
          ]
        }
      ]
    }
  ]
}